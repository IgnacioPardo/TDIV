{
  "nbformat": 4,
  "nbformat_minor": 0,
  "metadata": {
    "colab": {
      "provenance": [],
      "collapsed_sections": [],
      "authorship_tag": "ABX9TyO8EWA8YbRCPld1MRl04tzw",
      "include_colab_link": true
    },
    "kernelspec": {
      "name": "python3",
      "display_name": "Python 3"
    },
    "language_info": {
      "name": "python"
    }
  },
  "cells": [
    {
      "cell_type": "markdown",
      "metadata": {
        "id": "view-in-github",
        "colab_type": "text"
      },
      "source": [
        "<a href=\"https://colab.research.google.com/github/IgnacioPardo/TDIV/blob/main/Dijkstra.ipynb\" target=\"_parent\"><img src=\"https://colab.research.google.com/assets/colab-badge.svg\" alt=\"Open In Colab\"/></a>"
      ]
    },
    {
      "cell_type": "code",
      "source": [
        "import sys\n",
        "import numpy as np\n",
        "from pprint import pprint\n",
        "import pandas as pd\n",
        "import networkx as nx\n",
        "import matplotlib.pyplot as plt"
      ],
      "metadata": {
        "id": "bjNehKESJIks"
      },
      "execution_count": 1,
      "outputs": []
    },
    {
      "cell_type": "markdown",
      "source": [
        "# Define Graph Edges and Weights"
      ],
      "metadata": {
        "id": "X4OeObhMM_6c"
      }
    },
    {
      "cell_type": "code",
      "source": [
        "weights = {\n",
        "            (1, 2) : 10,\n",
        "            (1, 3) : 3,\n",
        "            (2, 3) : 6,\n",
        "            (2, 4) : 2,\n",
        "            (3, 4) : 10,\n",
        "            (3, 5) : 2,\n",
        "            (4, 5) : 1,\n",
        "            (5, 6): 100,\n",
        "          }\n",
        "\n",
        "nodos = set(np.unique(np.array(list(weights.keys())).flatten()))\n",
        "edges = list(weights.keys())"
      ],
      "metadata": {
        "id": "jjm-D9krqLN6"
      },
      "execution_count": 2,
      "outputs": []
    },
    {
      "cell_type": "markdown",
      "source": [
        "# Visualize initial Graph"
      ],
      "metadata": {
        "id": "RvwBJeMlNEmK"
      }
    },
    {
      "cell_type": "code",
      "source": [
        "pos = {}\n",
        "x = 0\n",
        "y = 0\n",
        "for i, n in enumerate(nodos):\n",
        "  pos[n] = (x, y)\n",
        "  if y == 1:\n",
        "    y = 0\n",
        "    x += 1\n",
        "  else:\n",
        "    y += 1\n",
        "\n",
        "G = nx.Graph()\n",
        "G.add_edges_from(edges)\n",
        "options = {\n",
        "    \"font_size\": 16,\n",
        "    \"node_size\": 3000,\n",
        "    \"edgecolors\": \"black\",\n",
        "    \"linewidths\": 3,\n",
        "    \"width\": 3,\n",
        "    \"connectionstyle\": \"arc3, rad=0\",\n",
        "    \"node_color\": \"cyan\",\n",
        "}\n",
        "\n",
        "\n",
        "nx.draw_networkx(G, pos, **options)\n",
        "nx.draw_networkx_edge_labels(\n",
        "    G, pos,\n",
        "    edge_labels=weights,\n",
        "    font_color='black',\n",
        "    font_size=16, \n",
        "    font_weight='bold'\n",
        ")\n",
        "ax = plt.gca()\n",
        "ax.margins(0.20)\n",
        "plt.axis('off')"
      ],
      "metadata": {
        "colab": {
          "base_uri": "https://localhost:8080/",
          "height": 265
        },
        "id": "FRkY9NgMk3u6",
        "outputId": "52463640-e5eb-4c0f-e25c-0ff0a3db2849"
      },
      "execution_count": 8,
      "outputs": [
        {
          "output_type": "execute_result",
          "data": {
            "text/plain": [
              "(-0.54, 2.54, -0.27, 1.27)"
            ]
          },
          "metadata": {},
          "execution_count": 8
        },
        {
          "output_type": "display_data",
          "data": {
            "text/plain": [
              "<Figure size 432x288 with 1 Axes>"
            ],
            "image/png": "[encoded data removed]"
          },
          "metadata": {}
        }
      ]
    },
    {
      "cell_type": "markdown",
      "source": [
        "# Dijkstra from initial node"
      ],
      "metadata": {
        "id": "cySnJl45NZln"
      }
    },
    {
      "cell_type": "code",
      "source": [
        "init = 1 #@param {type:\"integer\"}\n",
        "orig = init\n",
        "n_ = {orig}\n",
        "mincosts = {orig: 0}\n",
        "paths = {}\n",
        "\n",
        "for (x, y) in weights.keys():\n",
        "  if x is not orig and y is not orig:\n",
        "    mincosts[x] = sys.maxsize\n",
        "    mincosts[y] = sys.maxsize\n",
        "\n",
        "while nodos is not n_:\n",
        "  for (x, y), c in weights.items():\n",
        "    other = None\n",
        "    if x == orig:\n",
        "      other = y\n",
        "    if y == orig:\n",
        "      other = x\n",
        "\n",
        "    if other:\n",
        "      if mincosts[other] > mincosts[orig] + c:\n",
        "        paths[other] = (orig, mincosts[orig] + c)\n",
        "      mincosts[other] = min(mincosts[other], mincosts[orig] + c)\n",
        "\n",
        "  ordered = [n for n, _ in sorted(mincosts.items(), key=lambda item: item[1]) if n not in n_]\n",
        "  if len(ordered) is 0:\n",
        "    break\n",
        "  orig = ordered[0]\n",
        "  n_.add(orig)\n",
        "\n",
        "print(mincosts)"
      ],
      "metadata": {
        "colab": {
          "base_uri": "https://localhost:8080/"
        },
        "id": "PqNdw6-kFPKx",
        "outputId": "c14ef920-99dc-40b8-cc81-adcd0a23b326"
      },
      "execution_count": 4,
      "outputs": [
        {
          "output_type": "stream",
          "name": "stdout",
          "text": [
            "{1: 0, 2: 8, 3: 3, 4: 6, 5: 5, 6: 105}\n"
          ]
        }
      ]
    },
    {
      "cell_type": "markdown",
      "source": [
        "# Minimun cost paths"
      ],
      "metadata": {
        "id": "k01sVFpBPqNF"
      }
    },
    {
      "cell_type": "code",
      "source": [
        "pprint(paths)\n",
        "display(pd.DataFrame(paths))\n",
        "minpaths = {}\n",
        "\n",
        "for n in nodos - {init}:\n",
        "  minpaths[n] = []\n",
        "  k = n\n",
        "  while k != init:\n",
        "    minpaths[n].append(paths[k][0])\n",
        "    k = paths[k][0]\n",
        "  minpaths[n] = minpaths[n][::-1]\n",
        "  \n",
        "pprint(minpaths)"
      ],
      "metadata": {
        "colab": {
          "base_uri": "https://localhost:8080/",
          "height": 147
        },
        "id": "TstvhOOGj-n4",
        "outputId": "98dca041-d1e8-426d-90ba-6f37aee2a94f"
      },
      "execution_count": 6,
      "outputs": [
        {
          "output_type": "stream",
          "name": "stdout",
          "text": [
            "{2: (4, 8), 3: (1, 3), 4: (5, 6), 5: (3, 5), 6: (5, 105)}\n"
          ]
        },
        {
          "output_type": "display_data",
          "data": {
            "text/plain": [
              "   2  3  4  5    6\n",
              "0  4  1  5  3    5\n",
              "1  8  3  6  5  105"
            ],
            "text/html": [
              "\n",
              "  <div id=\"df-6533bd40-4d6d-401b-a657-c813cb8dc5fd\">\n",
              "    <div class=\"colab-df-container\">\n",
              "      <div>\n",
              "<style scoped>\n",
              "    .dataframe tbody tr th:only-of-type {\n",
              "        vertical-align: middle;\n",
              "    }\n",
              "\n",
              "    .dataframe tbody tr th {\n",
              "        vertical-align: top;\n",
              "    }\n",
              "\n",
              "    .dataframe thead th {\n",
              "        text-align: right;\n",
              "    }\n",
              "</style>\n",
              "<table border=\"1\" class=\"dataframe\">\n",
              "  <thead>\n",
              "    <tr style=\"text-align: right;\">\n",
              "      <th></th>\n",
              "      <th>2</th>\n",
              "      <th>3</th>\n",
              "      <th>4</th>\n",
              "      <th>5</th>\n",
              "      <th>6</th>\n",
              "    </tr>\n",
              "  </thead>\n",
              "  <tbody>\n",
              "    <tr>\n",
              "      <th>0</th>\n",
              "      <td>4</td>\n",
              "      <td>1</td>\n",
              "      <td>5</td>\n",
              "      <td>3</td>\n",
              "      <td>5</td>\n",
              "    </tr>\n",
              "    <tr>\n",
              "      <th>1</th>\n",
              "      <td>8</td>\n",
              "      <td>3</td>\n",
              "      <td>6</td>\n",
              "      <td>5</td>\n",
              "      <td>105</td>\n",
              "    </tr>\n",
              "  </tbody>\n",
              "</table>\n",
              "</div>\n",
              "      <button class=\"colab-df-convert\" onclick=\"convertToInteractive('df-6533bd40-4d6d-401b-a657-c813cb8dc5fd')\"\n",
              "              title=\"Convert this dataframe to an interactive table.\"\n",
              "              style=\"display:none;\">\n",
              "        \n",
              "  <svg xmlns=\"http://www.w3.org/2000/svg\" height=\"24px\"viewBox=\"0 0 24 24\"\n",
              "       width=\"24px\">\n",
              "    <path d=\"M0 0h24v24H0V0z\" fill=\"none\"/>\n",
              "    <path d=\"M18.56 5.44l.94 2.06.94-2.06 2.06-.94-2.06-.94-.94-2.06-.94 2.06-2.06.94zm-11 1L8.5 8.5l.94-2.06 2.06-.94-2.06-.94L8.5 2.5l-.94 2.06-2.06.94zm10 10l.94 2.06.94-2.06 2.06-.94-2.06-.94-.94-2.06-.94 2.06-2.06.94z\"/><path d=\"M17.41 7.96l-1.37-1.37c-.4-.4-.92-.59-1.43-.59-.52 0-1.04.2-1.43.59L10.3 9.45l-7.72 7.72c-.78.78-.78 2.05 0 2.83L4 21.41c.39.39.9.59 1.41.59.51 0 1.02-.2 1.41-.59l7.78-7.78 2.81-2.81c.8-.78.8-2.07 0-2.86zM5.41 20L4 18.59l7.72-7.72 1.47 1.35L5.41 20z\"/>\n",
              "  </svg>\n",
              "      </button>\n",
              "      \n",
              "  <style>\n",
              "    .colab-df-container {\n",
              "      display:flex;\n",
              "      flex-wrap:wrap;\n",
              "      gap: 12px;\n",
              "    }\n",
              "\n",
              "    .colab-df-convert {\n",
              "      background-color: #E8F0FE;\n",
              "      border: none;\n",
              "      border-radius: 50%;\n",
              "      cursor: pointer;\n",
              "      display: none;\n",
              "      fill: #1967D2;\n",
              "      height: 32px;\n",
              "      padding: 0 0 0 0;\n",
              "      width: 32px;\n",
              "    }\n",
              "\n",
              "    .colab-df-convert:hover {\n",
              "      background-color: #E2EBFA;\n",
              "      box-shadow: 0px 1px 2px rgba(60, 64, 67, 0.3), 0px 1px 3px 1px rgba(60, 64, 67, 0.15);\n",
              "      fill: #174EA6;\n",
              "    }\n",
              "\n",
              "    [theme=dark] .colab-df-convert {\n",
              "      background-color: #3B4455;\n",
              "      fill: #D2E3FC;\n",
              "    }\n",
              "\n",
              "    [theme=dark] .colab-df-convert:hover {\n",
              "      background-color: #434B5C;\n",
              "      box-shadow: 0px 1px 3px 1px rgba(0, 0, 0, 0.15);\n",
              "      filter: drop-shadow(0px 1px 2px rgba(0, 0, 0, 0.3));\n",
              "      fill: #FFFFFF;\n",
              "    }\n",
              "  </style>\n",
              "\n",
              "      <script>\n",
              "        const buttonEl =\n",
              "          document.querySelector('#df-6533bd40-4d6d-401b-a657-c813cb8dc5fd button.colab-df-convert');\n",
              "        buttonEl.style.display =\n",
              "          google.colab.kernel.accessAllowed ? 'block' : 'none';\n",
              "\n",
              "        async function convertToInteractive(key) {\n",
              "          const element = document.querySelector('#df-6533bd40-4d6d-401b-a657-c813cb8dc5fd');\n",
              "          const dataTable =\n",
              "            await google.colab.kernel.invokeFunction('convertToInteractive',\n",
              "                                                     [key], {});\n",
              "          if (!dataTable) return;\n",
              "\n",
              "          const docLinkHtml = 'Like what you see? Visit the ' +\n",
              "            '<a target=\"_blank\" href=https://colab.research.google.com/notebooks/data_table.ipynb>data table notebook</a>'\n",
              "            + ' to learn more about interactive tables.';\n",
              "          element.innerHTML = '';\n",
              "          dataTable['output_type'] = 'display_data';\n",
              "          await google.colab.output.renderOutput(dataTable, element);\n",
              "          const docLink = document.createElement('div');\n",
              "          docLink.innerHTML = docLinkHtml;\n",
              "          element.appendChild(docLink);\n",
              "        }\n",
              "      </script>\n",
              "    </div>\n",
              "  </div>\n",
              "  "
            ]
          },
          "metadata": {}
        },
        {
          "output_type": "stream",
          "name": "stdout",
          "text": [
            "{2: [1, 3, 5, 4], 3: [1], 4: [1, 3, 5], 5: [1, 3], 6: [1, 3, 5]}\n"
          ]
        }
      ]
    },
    {
      "cell_type": "markdown",
      "source": [
        "# Minimum cost path to destination"
      ],
      "metadata": {
        "id": "yc2BLgKENn0O"
      }
    },
    {
      "cell_type": "code",
      "source": [
        "dest = 2 #@param {type:\"integer\"}\n",
        "\n",
        "RG = nx.Graph()\n",
        "options = {\n",
        "    \"font_size\": 16,\n",
        "    \"node_size\": 3000,\n",
        "    \"edgecolors\": \"black\",\n",
        "    \"linewidths\": 3,\n",
        "    \"width\": 3,\n",
        "    \"connectionstyle\": \"arc3, rad=0\",\n",
        "    \"node_color\": \"cyan\",\n",
        "}\n",
        "\n",
        "reduced_weights = {}\n",
        "reduced_nodes = minpaths[dest] + [dest]\n",
        "\n",
        "for i, n in enumerate(reduced_nodes[:-1]):\n",
        "  pair = (n, reduced_nodes[i+1])\n",
        "  weight = 0\n",
        "  if pair in weights:\n",
        "    weight = weights[pair]\n",
        "  else:\n",
        "    weight = weights[(reduced_nodes[i+1], n)]\n",
        "  reduced_weights[pair] = weight\n",
        "\n",
        "RG.add_edges_from(list(reduced_weights.keys()))\n",
        "\n",
        "for n in nodos - set(reduced_nodes):\n",
        "  RG.add_node(n)\n",
        "\n",
        "def plot_RG():\n",
        "  nx.draw_networkx(RG, pos, **options)\n",
        "  nx.draw_networkx_edge_labels(\n",
        "      RG, pos,\n",
        "      edge_labels=reduced_weights,\n",
        "      font_color='black',\n",
        "      font_size=16, \n",
        "      font_weight='bold'\n",
        "  )\n",
        "  ax = plt.gca()\n",
        "  ax.margins(0.20)\n",
        "  plt.axis('off')\n",
        "\n",
        "plot_RG()"
      ],
      "metadata": {
        "id": "0g04HJVIljPR",
        "colab": {
          "base_uri": "https://localhost:8080/",
          "height": 248
        },
        "outputId": "d177e4bc-ca27-450a-d591-6ceaefb7aa52"
      },
      "execution_count": 7,
      "outputs": [
        {
          "output_type": "display_data",
          "data": {
            "text/plain": [
              "<Figure size 432x288 with 1 Axes>"
            ],
            "image/png": "[encoded data removed]"
          },
          "metadata": {}
        }
      ]
    }
  ]
}